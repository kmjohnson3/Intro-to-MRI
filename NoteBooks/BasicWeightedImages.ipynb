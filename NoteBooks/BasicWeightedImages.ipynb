{
  "nbformat": 4,
  "nbformat_minor": 0,
  "metadata": {
    "colab": {
      "provenance": [],
      "authorship_tag": "ABX9TyOwcCuaLBaVTtUR/CKtQVtp",
      "include_colab_link": true
    },
    "kernelspec": {
      "name": "python3",
      "display_name": "Python 3"
    },
    "language_info": {
      "name": "python"
    }
  },
  "cells": [
    {
      "cell_type": "markdown",
      "metadata": {
        "id": "view-in-github",
        "colab_type": "text"
      },
      "source": [
        "<a href=\"https://colab.research.google.com/github/kmjohnson3/Intro-to-MRI/blob/master/NoteBooks/BasicWeightedImages.ipynb\" target=\"_parent\"><img src=\"https://colab.research.google.com/assets/colab-badge.svg\" alt=\"Open In Colab\"/></a>"
      ]
    },
    {
      "cell_type": "markdown",
      "source": [
        "# Basic MRI Contrast Images\n",
        "\n",
        "This notebook will simulate image for Gradient Echo and Spin Echo sequences. It uses a digital phantom of the brain:\n",
        "\n",
        "* http://www.bic.mni.mcgill.ca/brainweb/\n",
        "\n",
        "* C.A. Cocosco, V. Kollokian, R.K.-S. Kwan, A.C. Evans : \"BrainWeb: Online Interface to a 3D MRI Simulated Brain Database\"\n",
        "NeuroImage, vol.5, no.4, part 2/4, S425, 1997 -- Proceedings of 3-rd International Conference on Functional Mapping of the Human Brain, Copenhagen, May 1997.\n",
        "\n",
        "* R.K.-S. Kwan, A.C. Evans, G.B. Pike : \"MRI simulation-based evaluation of image-processing and classification methods\"\n",
        "IEEE Transactions on Medical Imaging. 18(11):1085-97, Nov 1999.\n",
        "R.K.-S. Kwan, A.C. Evans, G.B. Pike : \"An Extensible MRI Simulator for Post-Processing Evaluation\"\n",
        "\n",
        "* Visualization in Biomedical Computing (VBC'96). Lecture Notes in Computer Science, vol. 1131. Springer-Verlag, 1996. 135-140.\n",
        "\n",
        "* D.L. Collins, A.P. Zijdenbos, V. Kollokian, J.G. Sled, N.J. Kabani, C.J. Holmes, A.C. Evans : \"Design and Construction of a Realistic Digital Brain Phantom\"\n",
        "IEEE Transactions on Medical Imaging, vol.17, No.3, p.463--468, June 1998.\n",
        "\n",
        "## Limitations\n",
        "\n",
        "*   The $T1$ and $T2$ values are assumed to be the same for each tissue type.\n",
        "*   The $T2'$ (and subsequently $T2^*$) are calculated from a simluation based on the segmentation of the anatomy and assumed magnetic suceptibility. It therfore, does not do a great job in replicating $T2^*$ seen in-vio.\n"
      ],
      "metadata": {
        "id": "UHmNu4Fznltu"
      }
    },
    {
      "cell_type": "code",
      "execution_count": null,
      "metadata": {
        "id": "1rufIdmlc2ro"
      },
      "outputs": [],
      "source": [
        "# For interactive plotting\n",
        "from ipywidgets import interact, interactive, FloatSlider, IntSlider, ToggleButton\n",
        "from IPython.display import clear_output, display, HTML\n",
        "\n",
        "# General utilities\n",
        "import numpy as np\n",
        "import glob\n",
        "import h5py\n",
        "\n",
        "# for plotting modified style for better visualization\n",
        "import matplotlib.pyplot as plt\n",
        "import matplotlib as mpl\n",
        "mpl.rcParams['lines.linewidth'] = 4\n",
        "mpl.rcParams['axes.titlesize'] = 16\n",
        "mpl.rcParams['axes.labelsize'] = 14\n",
        "mpl.rcParams['xtick.labelsize'] = 12\n",
        "mpl.rcParams['ytick.labelsize'] = 12\n",
        "mpl.rcParams['legend.fontsize'] = 12\n",
        "\n",
        "\n",
        "# For interactive plotting\n",
        "from ipywidgets import interact, interactive, FloatSlider, IntSlider, ToggleButton\n",
        "from IPython.display import clear_output, display, HTML\n",
        "\n",
        "# for plotting modified style for better visualization\n",
        "import matplotlib.pyplot as plt\n",
        "import matplotlib as mpl\n",
        "mpl.rcParams['lines.linewidth'] = 4\n",
        "mpl.rcParams['axes.titlesize'] = 16\n",
        "mpl.rcParams['axes.labelsize'] = 14\n",
        "mpl.rcParams['xtick.labelsize'] = 12\n",
        "mpl.rcParams['ytick.labelsize'] = 12\n",
        "mpl.rcParams['legend.fontsize'] = 12\n"
      ]
    },
    {
      "cell_type": "markdown",
      "source": [
        "# Download the Digitial Phantom  \n",
        "This will download a tar containing multiple HDF5 files. Each file represents a tissue with one additional file to provide T2' values."
      ],
      "metadata": {
        "id": "0UCZ_bhHpeD0"
      }
    },
    {
      "cell_type": "code",
      "source": [
        "# Download a tar with tissues\n",
        "!wget -O brain_sim.tar https://www.dropbox.com/scl/fi/uuf51rdqcb3ml44xt3uz5/brain_sim.tar?rlkey=t7plwqqr5i3qba66wbbw0i1z3&dl=0\n",
        "!tar xvf brain_sim.tar"
      ],
      "metadata": {
        "id": "DOwI8xCKmNUl"
      },
      "execution_count": null,
      "outputs": []
    },
    {
      "cell_type": "markdown",
      "source": [
        "# Define a Tissue Class\n",
        "Tissues are represented by a structure which contains its name, a volume, and relevant parameters. The volume defines a fuzzy segmentation of the tissue. It also defined loading and saving functions from the HDF5 file."
      ],
      "metadata": {
        "id": "vbXy_zkrp_p8"
      }
    },
    {
      "cell_type": "code",
      "source": [
        "class Tissue:\n",
        "    '''\n",
        "    Tissue class to store MRI data and parameters\n",
        "    '''\n",
        "\n",
        "    def __init__(self, volume):\n",
        "        self.volume = volume\n",
        "        self.T1 = -1\n",
        "        self.T2 = -1\n",
        "        self.T2star = -1\n",
        "        self.density = -1\n",
        "        self.susceptibility = -1\n",
        "        self.name = 'None'\n",
        "        self.freq = 0.0\n",
        "\n",
        "    def __getitem__(self, idx):\n",
        "        return ((self.volume[idx] + 128) / 255)\n",
        "\n",
        "    def __setitem__(self, idx, value):\n",
        "        self.volume[idx] = value\n",
        "\n",
        "    def export(self, filename):\n",
        "\n",
        "        with h5py.File(filename, 'w') as f:\n",
        "            f.create_dataset('volume', data=self.volume, compression='gzip')\n",
        "            f.attrs['T1'] = self.T1\n",
        "            f.attrs['T2'] = self.T2\n",
        "            f.attrs['T2star'] = self.T2star\n",
        "            f.attrs['density'] = self.density\n",
        "            f.attrs['susceptibility'] = self.susceptibility\n",
        "            f.attrs['name'] = self.name\n",
        "            f.attrs['freq'] = self.freq\n",
        "\n",
        "    def load(self, filename):\n",
        "\n",
        "        with h5py.File(filename, 'r') as f:\n",
        "            self.volume = np.array(f['volume']).astype(np.float32)\n",
        "            self.T1 = f.attrs['T1']\n",
        "            self.T2 = f.attrs['T2']\n",
        "            self.T2star = f.attrs['T2star']\n",
        "            self.density = f.attrs['density']\n",
        "            self.susceptibility = f.attrs['susceptibility']\n",
        "            self.name = f.attrs['name']\n",
        "            self.freq = f.attrs['freq']\n",
        "\n"
      ],
      "metadata": {
        "id": "PTLZmFgtghrp"
      },
      "execution_count": null,
      "outputs": []
    },
    {
      "cell_type": "markdown",
      "source": [
        "# Load Tissues files and the gradient files"
      ],
      "metadata": {
        "id": "VLZYATbhqfwE"
      }
    },
    {
      "cell_type": "code",
      "source": [
        "files = glob.glob('subject54*.h5')\n",
        "tissues = []\n",
        "for file in files:\n",
        "  tissue = Tissue(None)\n",
        "  tissue.load(file)\n",
        "  tissues.append(tissue)\n",
        "\n",
        "\n",
        "with h5py.File('gradient.h5','r') as hf:\n",
        "  grad = np.array(hf['gradient']).astype(np.float32)\n",
        "grad /= np.max(grad)"
      ],
      "metadata": {
        "id": "sUkbc_W8jM7Q"
      },
      "execution_count": null,
      "outputs": []
    },
    {
      "cell_type": "markdown",
      "source": [
        "# Define the simulation and plotting functions\n",
        "This will define a function to calculate the signal from the volume and imaging parameters. The simulation is based on analytical solutions to be fast simulating:\n",
        "\n",
        "* **Spoiled Gradient Echo** : This is based on a simple steady state solution for $M_z$ with $M_{xy}$ cacluated from $M_z$ and the gradient of the simulated field.\n",
        "\n",
        "* **Spin echo** : This is a for a $90^\\circ$ - $180^\\circ$ sequence. The flip angle thus cannot be set by the user and will automatically be set to $90^\\circ$.\n"
      ],
      "metadata": {
        "id": "XgtOmi7iqwsL"
      }
    },
    {
      "cell_type": "code",
      "source": [
        "def calc_signal( TE, TR, B0, freq, alpha, M0, T1, T2, T2star, spin_echo, grad_slice):\n",
        "    # T1, T2, T2star in ms\n",
        "    # B0 in Hz\n",
        "    # alpha in degrees\n",
        "    # M0 in arbitrary units\n",
        "    # TE, TR in ms\n",
        "\n",
        "    # convert B0 to rad/s\n",
        "    B0 = B0 * 2 * np.pi\n",
        "\n",
        "    # convert alpha to rad\n",
        "    alpha = alpha * np.pi / 180\n",
        "\n",
        "    # calculate the longitudinal magnetization based on flip angle\n",
        "    #Mxy = Mz * np.sin(alpha) * np.exp(-TE / T2star)\n",
        "    if spin_echo:\n",
        "        Mz180 = -M0*(1 - np.exp(-0.5*TE/T1))\n",
        "        Mz = M0 + (Mz180 - M0) * np.exp(-(TR-0.5*TE) / T1)\n",
        "        Mxy = Mz * np.exp(-TE / T2)\n",
        "    else:\n",
        "        Mz = M0 * (1 - np.exp(-TR / T1)) / (1 - np.cos(alpha) * np.exp(-TR / T1))\n",
        "        Mxy = Mz * np.sin(alpha) * np.exp(-TE / T2star) * np.exp(-20*grad_slice*TE) * np.exp(-1j*2*np.pi*freq*TE/1000)\n",
        "\n",
        "    return Mxy\n",
        "\n",
        "\n",
        "def plot_image(TR, TE, flip, slice, spin_echo, noise_level):\n",
        "\n",
        "\n",
        "    #print(f'{TR}, {TE}, {flip}')\n",
        "\n",
        "    signal = np.zeros((434, 362), dtype=np.complex128)\n",
        "    for tissue in tissues:\n",
        "            signal += calc_signal(TE, TR, 0, tissue.freq, flip, tissue[slice]*tissue.density, tissue.T1, tissue.T2, tissue.T2star, spin_echo, grad[slice])\n",
        "\n",
        "    signal = np.abs( signal + np.random.normal(0, noise_level, signal.shape))\n",
        "\n",
        "    plt.figure()\n",
        "    plt.imshow(np.flip(signal), cmap='gray')\n",
        "\n",
        "    #plt.imshow(np.flip(phs_tissue_simulated[slice]), cmap='gray')\n",
        "\n",
        "    plt.xticks([])\n",
        "    plt.yticks([])\n",
        "\n",
        "    if spin_echo:\n",
        "        plt.title(f' SE:flip={int(flip)},TR={int(TR)},TE={int(TE)} ')\n",
        "    else:\n",
        "        plt.title(f'GRE:flip={int(flip)},TR={int(TR)},TE={int(TE)} ')\n",
        "\n",
        "    plt.colorbar()\n",
        "    plt.show()\n",
        "\n",
        "\n",
        "\n",
        "TRslider = FloatSlider(min=2, max=5000, step=1, value=50, description='TR [ms]',continuous_update=True)\n",
        "TEslider = FloatSlider(min=1, max=50, step=1, value=3, description='TE [ms]',continuous_update=True)\n",
        "flip_slider = FloatSlider(min=1, max=90, step=1, value=10, description='Flip [deg.]',continuous_update=True)\n",
        "spin_echo_toggle = ToggleButton(value=False, description='Toggle Spin echo', continuous_update=True)\n",
        "\n",
        "def update_max_TE(change):\n",
        "    TEslider.max = min(change['new']-1,100.0)\n",
        "\n",
        "def update_flip_min(change):\n",
        "\n",
        "    if change['new']:\n",
        "        flip_slider.max = 90\n",
        "        flip_slider.min = 90\n",
        "    else:\n",
        "        flip_slider.max = 90\n",
        "        flip_slider.min = 1\n",
        "\n",
        "\n",
        "TRslider.observe(update_max_TE, names='value')\n",
        "spin_echo_toggle.observe(update_flip_min, names='value')"
      ],
      "metadata": {
        "id": "IdvlxlvigyGP"
      },
      "execution_count": null,
      "outputs": []
    },
    {
      "cell_type": "markdown",
      "source": [
        "# Main simulation\n",
        "Things to try:\n",
        "\n",
        "1. Set the flip angle to 90 and the TE to 1. Sweep the TR. Does the contrast behave as expected? What type of weighting might this be?\n",
        "\n",
        "1. Set the flip angle to 90 and TR to 5000. Sweep the TE. Does the contrast behave as expected? What type of weighting might this be?\n",
        "\n",
        "1. Try 2. Again but swap between spin and gradient echo images. Look at multiple slices to see differences.\n",
        "\n",
        "1. For gradient echo, Set the TR to 10 and TE to 1. Sweep the flip angle. Does the contrast behave as expected? What type of weighting might this be?\n",
        "\n",
        "1. Mix the changes in TE, TR, and flip angle.\n",
        "\n",
        "\n"
      ],
      "metadata": {
        "id": "NiAuEhx1sInp"
      }
    },
    {
      "cell_type": "code",
      "source": [
        "w = interactive(plot_image,\n",
        "                TR=TRslider,\n",
        "                TE=TEslider,\n",
        "                flip=flip_slider,\n",
        "                slice=IntSlider(min=0, max=362, step=1, value=130, description='Slice',continuous_update=True),\n",
        "                spin_echo=spin_echo_toggle,\n",
        "                noise_level=FloatSlider(min=0, max=0.1, step=0.001, value=0.01, description='Noise level',continuous_update=True)\n",
        "                )\n",
        "display(w)"
      ],
      "metadata": {
        "id": "ZC6-RgeWkZrD"
      },
      "execution_count": null,
      "outputs": []
    }
  ]
}