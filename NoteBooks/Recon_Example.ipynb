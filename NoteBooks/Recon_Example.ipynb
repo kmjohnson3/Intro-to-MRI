{
  "nbformat": 4,
  "nbformat_minor": 0,
  "metadata": {
    "colab": {
      "name": "Recon_Example.ipynb",
      "provenance": [],
      "include_colab_link": true
    },
    "kernelspec": {
      "name": "python3",
      "display_name": "Python 3"
    }
  },
  "cells": [
    {
      "cell_type": "markdown",
      "metadata": {
        "id": "view-in-github",
        "colab_type": "text"
      },
      "source": [
        "<a href=\"https://colab.research.google.com/github/kmjohnson3/Intro-to-MRI/blob/master/NoteBooks/Recon_Example.ipynb\" target=\"_parent\"><img src=\"https://colab.research.google.com/assets/colab-badge.svg\" alt=\"Open In Colab\"/></a>"
      ]
    },
    {
      "cell_type": "markdown",
      "metadata": {
        "id": "WxIjqKUIfTgl"
      },
      "source": [
        "# MRI Reconstruction Excercise\n",
        "\n",
        "This Jupyter notebook provides some hands on experience with raw data from an MRI scan. Each code cell can be run by clicking on the upper left corner. You can also run all by using the \"Runtime\" menu on the top menu bar. When you modify one of the reconstruction paramaters, think about what you expect the change to be.\n",
        "\n",
        "# Objectives\n",
        "*   Reconstruct images from an actual scan.\n",
        "*   Understand the core processing steps to reconstruct an image\n",
        "*   Explore tradeoffs in reconstruction and sampling\n",
        "\n",
        "In python you need to load libraries to use them. This first cell imports a couple of key libraries to reconstruct images."
      ]
    },
    {
      "cell_type": "code",
      "metadata": {
        "id": "lXLlC5rOoIKI"
      },
      "source": [
        "# This is comment, Python will ignore this line\n",
        "\n",
        "# Import libraries (load libraries which provide some functions)\n",
        "%matplotlib inline\n",
        "import numpy as np # array library\n",
        "import math\n",
        "import cmath\n",
        "import pickle\n",
        "\n",
        "# For interactive plotting\n",
        "from ipywidgets import interact, interactive, FloatSlider, IntSlider\n",
        "from IPython.display import clear_output, display, HTML\n",
        "\n",
        "# for plotting modified style for better visualization\n",
        "import matplotlib.pyplot as plt\n",
        "import matplotlib as mpl\n",
        "mpl.rcParams['lines.linewidth'] = 3\n",
        "mpl.rcParams['axes.titlesize'] = 16\n",
        "mpl.rcParams['axes.labelsize'] = 11\n",
        "mpl.rcParams['xtick.labelsize'] = 10\n",
        "mpl.rcParams['ytick.labelsize'] = 10\n",
        "mpl.rcParams['legend.fontsize'] = 10"
      ],
      "execution_count": null,
      "outputs": []
    },
    {
      "cell_type": "markdown",
      "metadata": {
        "id": "9EOKnavHgwOV"
      },
      "source": [
        "# Download Raw Data\n",
        "We are going to download raw data from scans collected on the scanner. These are 2D brain scans collected with clinical sequence paramaters. There are 5 set of scans."
      ]
    },
    {
      "cell_type": "code",
      "metadata": {
        "id": "FcIOh7F5oK1-"
      },
      "source": [
        "# Get some data - Data is stored a Python pickled object\n",
        "import os\n",
        "if not os.path.exists(\"ReconExercise.tar\"):\n",
        "  !wget https://www.dropbox.com/s/1w1izrohybpwqaw/ReconExercise.tar\n",
        "  !tar xvf ReconExercise.tar\n",
        "\n",
        "# import the data\n",
        "scans = []\n",
        "for scan_number in range(5):\n",
        "  filename = f'BrainScan{scan_number+1}.p'\n",
        "\n",
        "  # Load the data\n",
        "  dbfile = open(filename, 'rb')\n",
        "  scan_data = pickle.load(dbfile)\n",
        "  dbfile.close()\n",
        "\n",
        "  # Fix a typo!\n",
        "  if scan_data['Sequence'] == 'Spoiled Gradent Echo':\n",
        "    scan_data['Sequence'] = 'Spoiled Gradient Echo'\n",
        "\n",
        "  scans.append(scan_data)"
      ],
      "execution_count": null,
      "outputs": []
    },
    {
      "cell_type": "markdown",
      "metadata": {
        "id": "DJTpc32Xguqd"
      },
      "source": [
        "This loads the data. You can change the filename to by changing the series number."
      ]
    },
    {
      "cell_type": "markdown",
      "metadata": {
        "id": "Rnvw4a9_pesT"
      },
      "source": [
        "This just plots the raw k-space data. The vendor samples the readout direction at a rate 2x higher than that required to support the desired FOV. Some of the data sets are also padded at the edges of the k-space. Due to the way this was created, specifically a set step to convert a multi-coil experiment to a single coil step, those edges have some small values."
      ]
    },
    {
      "cell_type": "code",
      "metadata": {
        "id": "1aAzhS_DwUoH"
      },
      "source": [
        "def plot_kspace(idx):\n",
        "  scan_data = scans[idx]\n",
        "\n",
        "  plt.figure(figsize=(8,4))\n",
        "  plt.imshow(np.log(np.abs(scan_data['kspace'])),cmap='gray', aspect=0.5)\n",
        "  plt.grid(False)\n",
        "  shape = scan_data['kspace'].shape\n",
        "  plt.title(f'Full Kspace Scan {scan_number} {shape}')\n",
        "  plt.ylabel(r'$K_x$ [index]')\n",
        "  plt.xlabel(r'$K_y$ [index]')\n",
        "  plt.xticks([], [])\n",
        "  plt.yticks([], [])\n",
        "  plt.show()\n",
        "\n",
        "w = interactive(plot_kspace,\n",
        "                idx=IntSlider(min=0, max=len(scans)-1, step=1, value=0, description='Scan number'))\n",
        "display(w)\n"
      ],
      "execution_count": null,
      "outputs": []
    },
    {
      "cell_type": "markdown",
      "metadata": {
        "id": "c572IIN_aGes"
      },
      "source": [
        "**Subsampling of the data**\n",
        "Below are some subsamplings of the data. They include:\n",
        "\n",
        "*   Subselecting a set of lines by changing $\\Delta k_y $ controlled by accY\n",
        "*   Subselecting a set of lines by changing $k_{max} $ in x and y controlled by kmaxX, kmaxY\n",
        "*   Subselecting a set of point by randomly removing a set of points, controlled by random_undersampling_fraction (1=remove none)\n",
        "\n",
        "**Reconstruction**\n",
        "This is simple discrete Fourier transform of the data with a Gaussian window function.\n",
        "* What is the affect of changing the window function from 1.0 to 0.3 (suggest doing this with kmaxX,kmaxY = 1.0,1.0)\n",
        "\n",
        "\n",
        "**Suggested changes (all starting with other parameters = 1.0)**\n",
        "* Run with  $\\Delta k_y$ = 1,2,3 see if you can predict what the image looks like from 1?\n",
        "* Run with kmaxY = 1.0, 0.5,0.1. What happens to resolution and noise? Do any artifacts come up?\n",
        "* Run with with random undersampling = 1.0 and 0.8. If the appearance less disrupting?\n",
        "\n",
        "**Questions**\n",
        "These are images in magnitude and phase. Some things to look at:\n",
        "* Is there any correspondance between magnitude and phase?\n",
        "* Is the phase uniform across the image?\n",
        "* What features apear bright and why?\n",
        "* Is there obervable Gibb's ringing?\n"
      ]
    },
    {
      "cell_type": "code",
      "metadata": {
        "id": "gL3QjhUxqVMS"
      },
      "source": [
        "def undersample_data(Kspace, accY, kmaxX, kmaxY, random_undersampling_fraction):\n",
        "  # Subsampling\n",
        "  Kspace_us = np.zeros_like(Kspace)\n",
        "\n",
        "  # Regular - change delta k\n",
        "  Kspace_us[:,::accY] = Kspace[:,::accY]\n",
        "\n",
        "  # Sub sections - change kmax\n",
        "  ky,kx = np.meshgrid( np.linspace(-1,1,Kspace.shape[1]),np.linspace(-1,1,Kspace.shape[0]))\n",
        "  Kspace_us *=  np.abs(kx/kmaxX) < 1\n",
        "  Kspace_us *=  np.abs(ky/kmaxY) < 1\n",
        "\n",
        "  # Random undersampling\n",
        "  mask = np.random.uniform(size=Kspace_us.shape[1:])\n",
        "  mask = np.expand_dims(mask,axis=0)\n",
        "  mask = np.repeat(mask,repeats=Kspace_us.shape[0],axis=0)\n",
        "  Kspace_us *= mask < random_undersampling_fraction\n",
        "\n",
        "  return Kspace_us\n",
        "\n",
        "def inverse_fourier_transform(Kspace_us, window):\n",
        "  # Window function\n",
        "  ky,kx = np.meshgrid( np.linspace(-1,1,Kspace_us.shape[1]),np.linspace(-1,1,Kspace_us.shape[0]))\n",
        "  sigma = window\n",
        "  kr = np.sqrt( kx**2 + ky**2)\n",
        "  k_filter = np.exp( -(kr**2)/(2*sigma**2))\n",
        "\n",
        "  # This is to do a FFT shift operator so that the center of k-space is at the center of the image\n",
        "  x,y = np.meshgrid( range(Kspace_us.shape[1]), range(Kspace_us.shape[0]))\n",
        "  chop = (-1)**( x+y)\n",
        "\n",
        "  # Fourier Transform with Window Function\n",
        "  Image = chop*np.fft.fft2(k_filter*Kspace_us*chop)\n",
        "\n",
        "  return Image\n",
        "\n",
        "\n",
        "def sample_and_plot(scan_idx, accY, kmaxX, kmaxY, random_undersampling_fraction, window):\n",
        "\n",
        "  # Grab the scan data\n",
        "  scan_data = scans[scan_idx]\n",
        "  Kspace = scan_data['kspace']\n",
        "\n",
        "  # Subsample the data\n",
        "  Kspace_us = undersample_data(Kspace, accY=accY, kmaxX=kmaxX, kmaxY=kmaxY, random_undersampling_fraction=random_undersampling_fraction)\n",
        "\n",
        "  # Reconstruct that data\n",
        "  image = inverse_fourier_transform( Kspace_us, window=window)\n",
        "\n",
        "\n",
        "  crop = image.shape[0] // 4\n",
        "\n",
        "  # Show the subsampled data\n",
        "  plt.figure(figsize=(15,7))\n",
        "\n",
        "  plt.subplot(131)\n",
        "  plt.imshow(np.log(1e-7+np.abs(Kspace_us)),cmap='gray', aspect=0.5)\n",
        "  plt.grid(False)\n",
        "  shape = Kspace_us.shape\n",
        "  plt.title(f'Subsampled Kspace Scan {scan_number} {shape}')\n",
        "  plt.ylabel(r'$K_x$ [index]')\n",
        "  plt.xlabel(r'$K_y$ [index]')\n",
        "  plt.xticks([], [])\n",
        "  plt.yticks([], [])\n",
        "\n",
        "  plt.subplot(132)\n",
        "  plt.imshow(np.abs(image[crop:-crop,:]),cmap='gray')\n",
        "  plt.grid(False)\n",
        "  plt.title(f'Reconstructed Image {scan_number}')\n",
        "  plt.ylabel(r'$x$ [index]')\n",
        "  plt.xlabel(r'$y$ [index]')\n",
        "  plt.clim(0, 8*np.mean(np.abs(image)))\n",
        "  plt.xticks([], [])\n",
        "  plt.yticks([], [])\n",
        "\n",
        "  plt.subplot(133)\n",
        "  plt.imshow(np.angle(image[crop:-crop,:]),cmap='gray')\n",
        "  plt.grid(False)\n",
        "  plt.title(f'Reconstructed Phase {scan_number}')\n",
        "  plt.ylabel(r'$x$ [index]')\n",
        "  plt.xlabel(r'$y$ [index]')\n",
        "  plt.xticks([], [])\n",
        "  plt.yticks([], [])\n",
        "\n",
        "  plt.show()\n",
        "\n",
        "\n",
        "w = interactive(sample_and_plot,\n",
        "                scan_idx=IntSlider(min=0, max=len(scans)-1, step=1, value=0, description='Scan number', continuous_update=False),\n",
        "                accY=IntSlider(min=1, max=4, step=1, value=1, description='Stride in Y', continuous_update=False),\n",
        "                kmaxX=FloatSlider(min=0.1, max=1, step=0.1, value=1, description='Kmax X', continuous_update=False),\n",
        "                kmaxY=FloatSlider(min=0.1, max=1, step=0.1, value=1, description='Kmax Y', continuous_update=False),\n",
        "                window=FloatSlider(min=0.1, max=1.0, step=0.1, value=1.0, description='Window amount', continuous_update=False),\n",
        "                random_undersampling_fraction=FloatSlider(min=0.1, max=1, step=0.1, value=1, description='Rand sample', continuous_update=False))\n",
        "\n",
        "display(w)\n"
      ],
      "execution_count": null,
      "outputs": []
    },
    {
      "cell_type": "markdown",
      "metadata": {
        "id": "Kxrcm0kLfQ91"
      },
      "source": [
        "Can you use these images to determine what scan this was? Check your answer by running the below code cell below.\n",
        "\n",
        "**There are five scans:**\n",
        "\n",
        "* Spin echo with Inversion Prep\n",
        "  * TR = 9000ms\n",
        "  * TE = 81ms\n",
        "\n",
        "* Spin Echo\n",
        "  * TR = 6190ms\n",
        "  * TE = 113ms\n",
        "\n",
        "* Spoiled Gradient Echo\n",
        "  * TR = 250ms\n",
        "  * TE = 3.4ms\n",
        "  * Flip angle = 70\n",
        "\n",
        "* Spoiled Gradient Echo after Contrast\n",
        "  * TR = 250ms\n",
        "  * TE = 2.64ms\n",
        "  * Flip angle = 70\n",
        "\n",
        "* Spin Echo\n",
        "  * TR = 419ms\n",
        "  * TE = 9.4ms\n",
        "\n",
        "\n",
        "**It may be useful to know some of the relaxation values in the brain:**\n",
        "* White Matter - The inner tissue of the brain\n",
        "  * T1 = 1000 ms\n",
        "  * T2 = 70 ms\n",
        "\n",
        "* Gray Matter - The thinner cortical tissue surroundings white matter.  \n",
        "  * T1 = 1800 ms\n",
        "  * T2 = 100 ms\n",
        "\n",
        "* Cerebral Spinal Fluid - A water like fluid surroundings with two large cavities in the center of the brain.\n",
        "  * T1 = 4000 ms\n",
        "  * T2 = 800 ms\n",
        "\n",
        "\n"
      ]
    },
    {
      "cell_type": "code",
      "metadata": {
        "id": "ZZyYnkFJyu3z"
      },
      "source": [
        "for idx, scan_data in enumerate(scans):\n",
        "  print(f'Scan number {idx}')\n",
        "  print('           Sequence Type = ' + str(scan_data['Sequence']))\n",
        "  print('           TR = ' + str(scan_data['TR']) + ' ms')\n",
        "  print('           TE = ' + str(scan_data['TE']) + ' ms')\n",
        "  if scan_data['Sequence'] == 'Spoiled Gradient Echo':\n",
        "    print('         Flip = ' + str(scan_data['Flip']) + ' degrees')\n"
      ],
      "execution_count": null,
      "outputs": []
    }
  ]
}